{
 "cells": [
  {
   "cell_type": "code",
   "execution_count": null,
   "metadata": {},
   "outputs": [],
   "source": [
    "# Get instance\n",
    "import instaloader\n",
    "\n",
    "L = instaloader.Instaloader()\n",
    "\n",
    "# Login or load session\n",
    "username = \"instagram_username\"\n",
    "password = \"instagram_password\"\n",
    "L.login(username, password)  # (login)\n",
    "\n",
    "# Obtain profile metadata\n",
    "profile = instaloader.Profile.from_username(L.context, username)\n",
    "\n",
    "# Print list of followers\n",
    "print(\"----------------------------------------------------------------------------------------\")\n",
    "print(\"---------------------------------Followers List---------------------------------------\\n\");\n",
    "follow_list = []\n",
    "count = 0\n",
    "for followee in profile.get_followers():\n",
    "    follow_list.append(followee.username)\n",
    "    file = open(\"followers_test.txt\", \"a+\")\n",
    "    file.write(follow_list[count])\n",
    "    file.write(\"\\n\")\n",
    "    file.close()\n",
    "    print(follow_list[count])\n",
    "    count = count + 1\n",
    "# (likewise with profile.get_followers())\n",
    "\n",
    "# Print list of followers\n",
    "print(\"----------------------------------------------------------------------------------------\")\n",
    "print(\"---------------------------------Following List---------------------------------------\\n\");\n",
    "following_list = []\n",
    "count=0\n",
    "# Print list of followees\n",
    "for followee in profile.get_followees():\n",
    "    following_list.append(followee.username)\n",
    "    file = open(\"following_test.txt\", \"a+\")\n",
    "    file.write(following_list[count])\n",
    "    file.write(\"\\n\")\n",
    "    file.close()\n",
    "    print(following_list[count])\n",
    "    count = count + 1\n",
    "# (likewise with profile.get_followees())\n",
    "\n",
    "#Find Final Username who are present in following but not in follower\n",
    "\n",
    "\n",
    "print(\"-------------------------------------------------------------------------------------------\")\n",
    "print(\"-------------Final Username who are present in following but not in follower---------------\\n\")\n",
    "\n",
    "list_difference = []\n",
    "for item in following_list:\n",
    "    if item not in follow_list:\n",
    "        list_difference.append(item)\n",
    "print(list_difference)"
   ]
  }
 ],
 "metadata": {
  "kernelspec": {
   "display_name": "Python 3",
   "language": "python",
   "name": "python3"
  },
  "language_info": {
   "codemirror_mode": {
    "name": "ipython",
    "version": 3
   },
   "file_extension": ".py",
   "mimetype": "text/x-python",
   "name": "python",
   "nbconvert_exporter": "python",
   "pygments_lexer": "ipython3",
   "version": "3.8.4"
  }
 },
 "nbformat": 4,
 "nbformat_minor": 4
}
